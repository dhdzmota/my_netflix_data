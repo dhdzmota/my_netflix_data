{
 "cells": [
  {
   "cell_type": "markdown",
   "id": "59e0dcfb",
   "metadata": {
    "id": "59e0dcfb"
   },
   "source": [
    "### Imports and Data Loading"
   ]
  },
  {
   "cell_type": "code",
   "execution_count": null,
   "id": "4c0917f2",
   "metadata": {
    "id": "4c0917f2"
   },
   "outputs": [],
   "source": [
    "import pandas as pd\n",
    "import numpy as np\n",
    "import seaborn as sns\n",
    "import matplotlib.pyplot as plt\n",
    "import datetime\n",
    "import matplotlib.image as mpimg\n",
    "from PIL import Image, ImageDraw, ImageFont\n",
    "import textwrap"
   ]
  },
  {
   "cell_type": "code",
   "execution_count": null,
   "id": "7iawY2Bu8KSh",
   "metadata": {
    "id": "7iawY2Bu8KSh"
   },
   "outputs": [],
   "source": [
    "from google.colab import drive\n",
    "drive.mount('/content/drive')"
   ]
  },
  {
   "cell_type": "code",
   "execution_count": null,
   "id": "63f78889",
   "metadata": {
    "id": "63f78889"
   },
   "outputs": [],
   "source": [
    "df = pd.read_csv('/content/drive/MyDrive/my-netflix-data/ViewingActivity.csv')\n",
    "df"
   ]
  },
  {
   "cell_type": "markdown",
   "id": "308f2f1f",
   "metadata": {
    "id": "308f2f1f"
   },
   "source": [
    "### Rename and drop columns"
   ]
  },
  {
   "cell_type": "code",
   "execution_count": null,
   "id": "ef6f2b00",
   "metadata": {
    "id": "ef6f2b00"
   },
   "outputs": [],
   "source": [
    "df.columns = ['name', 'start', 'duration', 'attrs', 'title', 'svt', 'device', 'bookmark', 'latestbookmark', 'country'] \n",
    "df = df.drop(['attrs', 'svt', 'bookmark', 'latestbookmark'], axis = 1)\n",
    "df"
   ]
  },
  {
   "cell_type": "markdown",
   "id": "44c87f4b",
   "metadata": {
    "id": "44c87f4b"
   },
   "source": [
    "### Keep only shows watched by me for more than 5 minutes"
   ]
  },
  {
   "cell_type": "code",
   "execution_count": null,
   "id": "ef0dbecc",
   "metadata": {
    "id": "ef0dbecc"
   },
   "outputs": [],
   "source": [
    "# Convert time string in format HH:MM:SS to seconds\n",
    "def time_string_to_secs(time_string):\n",
    "    time_string = time_string.split(':')\n",
    "    return (int(time_string[0]) * 3600) + (int(time_string[1]) * 60) + int(time_string[2])\n",
    "\n",
    "def time_string_to_mins(time_string):\n",
    "    time_string = time_string.split(':')\n",
    "    return (int(time_string[0]) * 3600) + int(time_string[1])\n",
    "\n",
    "def time_string_to_hours(time_string):\n",
    "    time_string = time_string.split(':')\n",
    "    return float(time_string[0]) + float(time_string[1]) / 60\n",
    "\n",
    "\n",
    "df['duration_mins'] = df.duration.map(time_string_to_mins)\n",
    "df['duration_secs'] = df.duration.map(time_string_to_secs)"
   ]
  },
  {
   "cell_type": "code",
   "execution_count": null,
   "id": "64de021e",
   "metadata": {
    "id": "64de021e"
   },
   "outputs": [],
   "source": [
    "print(df.name.unique())\n",
    "profile_name = 'TU NOMBRE AQUI'\n",
    "if profile_name == 'TU NOMBRE AQUI':\n",
    "    raise Exception(\"CAMBIA profile_name POR EL NOMBRE DE TU PERFIL\")\n",
    "print(f'Perfil seleccionado: {profile_name}')\n",
    "df = df.loc[df.name == profile_name]\n",
    "df = df.loc[df.duration_mins >= 5]\n",
    "df"
   ]
  },
  {
   "cell_type": "markdown",
   "id": "695b54ed",
   "metadata": {
    "id": "695b54ed"
   },
   "source": [
    "## General Stats: Total watch time, Account time and Watch time per week"
   ]
  },
  {
   "cell_type": "code",
   "execution_count": null,
   "id": "be3529d8",
   "metadata": {
    "id": "be3529d8"
   },
   "outputs": [],
   "source": [
    "# Convert seconds to string in format HH:MM:SS\n",
    "def convert_to_hours_format(seconds):\n",
    "    hours = seconds // 3600\n",
    "    seconds -= 3600 * hours\n",
    "    minutes = seconds // 60\n",
    "    seconds -= 60 * minutes\n",
    "    return \"%d:%02d:%02d\" % (hours, minutes, seconds)"
   ]
  },
  {
   "cell_type": "code",
   "execution_count": null,
   "id": "0dadd7d5",
   "metadata": {
    "id": "0dadd7d5"
   },
   "outputs": [],
   "source": [
    "total_time = convert_to_hours_format(df.duration_secs.sum()).split(':')\n",
    "print(f'Tiempo total viendo contenido: {total_time[0]} hours, {total_time[1]} minutes, {total_time[2]} seconds')\n",
    "\n",
    "dates = df.start.sort_values()\n",
    "date_str_format = '%Y-%m-%d %H:%M:%S'\n",
    "d1 = datetime.datetime.strptime(dates.head(1).values[0], date_str_format)\n",
    "d2 = datetime.datetime.strptime(dates.tail(1).values[0], date_str_format)\n",
    "\n",
    "account_time = d2 - d1\n",
    "account_years = account_time.days // 365\n",
    "account_months = (account_time.days - (account_years * 365)) // 30\n",
    "account_days = account_time.days - (account_years * 365) - (account_months * 30)\n",
    "\n",
    "watch_hours_per_week = int(total_time[0]) / (account_time.days / 7)\n",
    "print(f'{watch_hours_per_week:.2f} horas por semana en promedio')\n",
    "print(f'Durante {account_years} años, {account_months} meses, {account_days} días')\n",
    "account_start = dates.head(1).values[0].split(\" \")[0]\n",
    "account_stats_end = dates.tail(1).values[0].split(\" \")[0]\n",
    "print(f'{account_time.days} días totales (Desde {account_start} hasta {account_stats_end})')\n",
    "\n",
    "first_show_index = dates.head().index[0]\n",
    "first_show = df.loc[first_show_index].title\n",
    "first_show_date = df.loc[first_show_index].start.split(' ')[0]\n",
    "print(f'Primer contenido visto: {first_show} ({first_show_date})')"
   ]
  },
  {
   "cell_type": "markdown",
   "id": "8d00ab01",
   "metadata": {
    "id": "8d00ab01"
   },
   "source": [
    "### Top played all content"
   ]
  },
  {
   "cell_type": "code",
   "execution_count": null,
   "id": "3602ffb3",
   "metadata": {
    "id": "3602ffb3"
   },
   "outputs": [],
   "source": [
    "df.loc[:, 'plays'] = df.title.map(df.title.value_counts())\n",
    "df.loc[:, 'count'] = 1\n",
    "sorted_by_plays = df.loc[df.title.duplicated() == False]\n",
    "sorted_by_plays = sorted_by_plays.sort_values('plays', ascending=False)\n",
    "sorted_by_plays"
   ]
  },
  {
   "cell_type": "markdown",
   "id": "87152e7b",
   "metadata": {
    "id": "87152e7b"
   },
   "source": [
    "### Top played movies (non-series)"
   ]
  },
  {
   "cell_type": "code",
   "execution_count": null,
   "id": "04c18e4e",
   "metadata": {
    "id": "04c18e4e"
   },
   "outputs": [],
   "source": [
    "nonSeriesDf = pd.DataFrame(df.loc[df.title.str.contains(\": Season\") == False])\n",
    "nonSeriesDf = nonSeriesDf.loc[nonSeriesDf.title.str.contains(\": Book\") == False]\n",
    "nonSeriesDf = nonSeriesDf.loc[nonSeriesDf.title.str.contains(\" \\(Episode \") == False]\n",
    "nonSeriesDf = nonSeriesDf.loc[nonSeriesDf.title.str.contains(\" : Episode \") == False]\n",
    "nonSeriesDf = nonSeriesDf.loc[nonSeriesDf.title.str.contains(\" : Part \") == False]\n",
    "nonSeriesDf = nonSeriesDf.loc[nonSeriesDf.title.str.contains(\" \\(Chapter \") == False]\n",
    "nonSeriesDf = nonSeriesDf.loc[nonSeriesDf.title.str.contains(\" : Chapter \") == False]\n",
    "\n",
    "nonSeriesDf = nonSeriesDf.loc[nonSeriesDf.title.str.contains(\": Temporada\") == False]\n",
    "nonSeriesDf = nonSeriesDf.loc[nonSeriesDf.title.str.contains(\": Libro\") == False]\n",
    "nonSeriesDf = nonSeriesDf.loc[nonSeriesDf.title.str.contains(\" \\(Capítulo \") == False]\n",
    "nonSeriesDf = nonSeriesDf.loc[nonSeriesDf.title.str.contains(\" : Capítulo \") == False]\n",
    "nonSeriesDf = nonSeriesDf.loc[nonSeriesDf.title.str.contains(\" : Parte \") == False]\n",
    "nonSeriesDf = nonSeriesDf.loc[nonSeriesDf.title.str.contains(\" : Episodio \") == False]\n",
    "nonSeriesDf = nonSeriesDf.loc[nonSeriesDf.title.str.contains(\" \\(Episodio \") == False]\n",
    "\n",
    "nonSeriesDf"
   ]
  },
  {
   "cell_type": "code",
   "execution_count": null,
   "id": "e51f3011",
   "metadata": {
    "id": "e51f3011"
   },
   "outputs": [],
   "source": [
    "nonSeriesDf.loc[:, 'plays'] = df.title.map(df.title.value_counts())\n",
    "nonSeriesDf = nonSeriesDf.loc[nonSeriesDf.title.duplicated() == False]\n",
    "nonSeriesDf = nonSeriesDf.sort_values('plays', ascending=False)\n",
    "nonSeriesDf"
   ]
  },
  {
   "cell_type": "markdown",
   "id": "96b46be2",
   "metadata": {
    "id": "96b46be2"
   },
   "source": [
    "## Analyze TV Series (Content with multiple episodes)"
   ]
  },
  {
   "cell_type": "markdown",
   "id": "38c2a60f",
   "metadata": {
    "id": "38c2a60f"
   },
   "source": [
    "#### Set each episode name to just the series name "
   ]
  },
  {
   "cell_type": "code",
   "execution_count": null,
   "id": "4565214b",
   "metadata": {
    "id": "4565214b"
   },
   "outputs": [],
   "source": [
    "ts = df.title.str\n",
    "seriesDf = pd.DataFrame(\n",
    "    df.loc[\n",
    "        ts.contains(': Season') | ts.contains(': Book') | ts.contains(': Part') | ts.contains(' \\(Episode') | ts.contains(': Episode')| ts.contains(' \\(Chapter ') | ts.contains(': Chapter') | ts.contains(': Temporada ') | ts.contains(': Libro') | ts.contains(' \\(Capítulo') | ts.contains(': Capítulo') | ts.contains(': Parte') | ts.contains(': Episodio ') | ts.contains(\" \\(Episodio \")\n",
    "        ])\n",
    "seriesDf"
   ]
  },
  {
   "cell_type": "code",
   "execution_count": null,
   "id": "85891500",
   "metadata": {
    "id": "85891500"
   },
   "outputs": [],
   "source": [
    "# Get series name by removing everything starting with the \"Season\", \"Book\" or \"Episode\" suffix\n",
    "def get_clean_series_name(title):\n",
    "    suffixes = [\n",
    "        \" (Season\", \": Season\", \": Part\", \": Book\", \" (Chapter \", ': Chapter', ' (Episode', ': Episode',\n",
    "        ' (Temporada', ': Temporada', ': Parte', ': Libro', \" (Episodio\", ': Episodio', ' (Capítulo ', \": Capítulo\"\n",
    "    ]\n",
    "\n",
    "    for s in suffixes:\n",
    "        suffix_index = title.find(s)\n",
    "        if s == ': Episodio':\n",
    "            a = True\n",
    "        if suffix_index != -1:\n",
    "            clean_title = title[:suffix_index]    \n",
    "            return clean_title\n",
    "\n",
    "\n",
    "topWatchedByEpisodes = pd.DataFrame(seriesDf.loc[seriesDf.title.duplicated() == False])\n",
    "topWatchedByEpisodes.title = topWatchedByEpisodes.title.map(get_clean_series_name)\n",
    "seriesDf.title = seriesDf.title.map(get_clean_series_name)\n",
    "topWatchedByEpisodes"
   ]
  },
  {
   "cell_type": "code",
   "execution_count": null,
   "id": "6e47b6d7",
   "metadata": {
    "id": "6e47b6d7"
   },
   "outputs": [],
   "source": [
    "topWatchedSeriesByPlays = pd.DataFrame(seriesDf)\n",
    "topWatchedSeriesByPlays.loc[:, 'plays'] = topWatchedSeriesByPlays.title.map(topWatchedSeriesByPlays.title.value_counts())\n",
    "topWatchedSeriesByPlays = topWatchedSeriesByPlays.loc[topWatchedSeriesByPlays.title.duplicated() == False]\n",
    "topWatchedSeriesByPlays = topWatchedSeriesByPlays.sort_values('plays', ascending=False)\n",
    "topWatchedSeriesByPlays"
   ]
  },
  {
   "cell_type": "markdown",
   "id": "d7722fca",
   "metadata": {
    "id": "d7722fca"
   },
   "source": [
    "### Top series by watched episodes"
   ]
  },
  {
   "cell_type": "code",
   "execution_count": null,
   "id": "fca585b6",
   "metadata": {
    "id": "fca585b6"
   },
   "outputs": [],
   "source": [
    "topWatchedByEpisodes.loc[:, 'plays'] = topWatchedByEpisodes.title.map(topWatchedByEpisodes.title.value_counts())\n",
    "topWatchedByEpisodes = topWatchedByEpisodes.loc[topWatchedByEpisodes.title.duplicated() == False]\n",
    "topWatchedByEpisodes = topWatchedByEpisodes.sort_values('plays', ascending=False)\n",
    "topWatchedByEpisodes"
   ]
  },
  {
   "cell_type": "markdown",
   "id": "39c0b86c",
   "metadata": {
    "id": "39c0b86c"
   },
   "source": [
    "### Top series by watched time"
   ]
  },
  {
   "cell_type": "code",
   "execution_count": null,
   "id": "47155f70",
   "metadata": {
    "id": "47155f70"
   },
   "outputs": [],
   "source": [
    "# get sum of watched time\n",
    "topWatchedSeries = seriesDf.groupby(['title'])['duration_secs'].sum()\n",
    "topWatchedSeries"
   ]
  },
  {
   "cell_type": "code",
   "execution_count": null,
   "id": "eb3aaa7e",
   "metadata": {
    "id": "eb3aaa7e"
   },
   "outputs": [],
   "source": [
    "topWatchedSeriesDf = pd.DataFrame({'title':topWatchedSeries.index, 'duration_secs':topWatchedSeries.values}).sort_values('duration_secs', ascending=False)\n",
    "topWatchedSeriesDf['duration_mins'] = topWatchedSeriesDf.duration_secs / 60\n",
    "topWatchedSeriesDf['duration_hours'] = topWatchedSeriesDf.duration_mins / 60\n",
    "topWatchedSeriesDf"
   ]
  },
  {
   "cell_type": "code",
   "execution_count": null,
   "id": "fa6841dc",
   "metadata": {
    "id": "fa6841dc"
   },
   "outputs": [],
   "source": [
    "def graph_top_shows(shows, qty, title=\"\", ylabel=\"\", width=15, height=6, ):\n",
    "    sns.set_style('darkgrid')\n",
    "    plt.figure(figsize=(width, height))\n",
    "    sns.set_context('notebook', font_scale=1, rc={\"grid.linewidth\": 2})\n",
    "\n",
    "    plt.bar(shows, qty, color=['#C0392B', '#D35400', '#E67E22', '#F39C12', '#F1C40F'])\n",
    "    plt.ylabel(ylabel)\n",
    "    plt.title(title)\n",
    "    plt.xticks(shows, rotation=3)\n",
    "\n",
    "    plt.show()\n",
    "    plt.clf()\n"
   ]
  },
  {
   "cell_type": "code",
   "execution_count": null,
   "id": "cec6964d",
   "metadata": {
    "id": "cec6964d"
   },
   "outputs": [],
   "source": [
    "graph_top_shows(topWatchedByEpisodes.head().title, topWatchedByEpisodes.head().plays, 'Top Series por Episodios', 'Episodios')"
   ]
  },
  {
   "cell_type": "code",
   "execution_count": null,
   "id": "eddfa619",
   "metadata": {
    "id": "eddfa619"
   },
   "outputs": [],
   "source": [
    "graph_top_shows(topWatchedSeriesDf.head().title, topWatchedSeriesDf.head().duration_hours, 'Top Series por Horas', 'Horas')"
   ]
  },
  {
   "cell_type": "code",
   "execution_count": null,
   "id": "5e40f2a0",
   "metadata": {
    "id": "5e40f2a0"
   },
   "outputs": [],
   "source": [
    "graph_top_shows(nonSeriesDf.head().title, nonSeriesDf.head().plays, 'Top Películas', 'Veces Vista')"
   ]
  },
  {
   "cell_type": "markdown",
   "id": "27a09411",
   "metadata": {
    "id": "27a09411"
   },
   "source": [
    "## Summary Image"
   ]
  },
  {
   "cell_type": "markdown",
   "id": "cb8150ed",
   "metadata": {
    "id": "cb8150ed"
   },
   "source": [
    "## Watch events by weekday and hour of day"
   ]
  },
  {
   "cell_type": "code",
   "execution_count": null,
   "id": "df7b0edc",
   "metadata": {
    "id": "df7b0edc"
   },
   "outputs": [],
   "source": [
    "df.start = pd.to_datetime(df.start, utc=True)\n",
    "\n",
    "df = df.set_index('start')\n",
    "\n",
    "df.index = df.index.tz_convert('America/Mexico_City')\n",
    "\n",
    "df = df.reset_index()\n",
    "\n",
    "df['day'] = df.start.dt.weekday\n",
    "df['hour'] = df.start.dt.hour\n",
    "\n",
    "\n",
    "# set days Monday-Sunday\n",
    "df['day'] = pd.Categorical(df['day'], categories=[0,1,2,3,4,5,6], ordered=True)\n",
    "df.head()"
   ]
  },
  {
   "cell_type": "code",
   "execution_count": null,
   "id": "ebd33ef2",
   "metadata": {
    "id": "ebd33ef2",
    "scrolled": true
   },
   "outputs": [],
   "source": [
    "# create data per day and sort by day using sort_index function\n",
    "df_per_day = df['day'].value_counts().sort_index()\n",
    "\n",
    "print(df_per_day)"
   ]
  },
  {
   "cell_type": "code",
   "execution_count": null,
   "id": "3473a33d",
   "metadata": {
    "id": "3473a33d"
   },
   "outputs": [],
   "source": [
    "# set hours of day as numeric values\n",
    "df['hour'] = pd.Categorical(df['hour'], categories=[0,1,2,3,4,5,6,7,8,9,10,11,12,13,14,15,16,17,18,19,20,21,22,23], ordered=True)\n",
    "\n",
    "\n",
    "# create data per hour and sort by hour using sort_index function\n",
    "df_per_hour = df['hour'].value_counts().sort_index()\n",
    "\n",
    "print(df_per_hour)"
   ]
  },
  {
   "cell_type": "code",
   "execution_count": null,
   "id": "e503a136",
   "metadata": {
    "id": "e503a136"
   },
   "outputs": [],
   "source": [
    "df"
   ]
  },
  {
   "cell_type": "markdown",
   "id": "3e421cb0",
   "metadata": {
    "id": "3e421cb0"
   },
   "source": [
    "### Most common watch time"
   ]
  },
  {
   "cell_type": "code",
   "execution_count": null,
   "id": "04a065f4",
   "metadata": {
    "id": "04a065f4"
   },
   "outputs": [],
   "source": [
    "out = df.groupby(['day', 'hour'])['count'].sum().unstack()\n",
    "out.sum().sum()"
   ]
  },
  {
   "cell_type": "code",
   "execution_count": null,
   "id": "5bfef5f4",
   "metadata": {
    "id": "5bfef5f4"
   },
   "outputs": [],
   "source": [
    "plt.figure(figsize = (16, 8))\n",
    "plt.title('Shows iniciados por día de la semana y hora', fontsize = 20)\n",
    "ax = sns.heatmap(out, linewidths=1, square=True, yticklabels=['L', 'M', 'M', 'J', 'V', 'S', 'D'], cmap='flare', annot=True, fmt='g')\n",
    "plt.xlabel('Hora', fontsize = 15)\n",
    "plt.ylabel('Día de la semana', fontsize = 15)\n",
    "ax.invert_yaxis()"
   ]
  },
  {
   "cell_type": "markdown",
   "id": "64b02306",
   "metadata": {
    "id": "64b02306"
   },
   "source": [
    "## Summary Image"
   ]
  },
  {
   "cell_type": "code",
   "execution_count": null,
   "id": "4f985453",
   "metadata": {
    "id": "4f985453"
   },
   "outputs": [],
   "source": [
    "im = Image.open('/content/drive/MyDrive/my-netflix-data/img/template.jpeg')\n",
    "\n",
    "sns.set_context('notebook', font_scale = 1, rc = {\"grid.linewidth\":0})\n",
    "# plt.axes([0.0, 0.0, 1.5, 3.3])\n",
    "plt.axes([0.0, 0.0, 1, 2])\n",
    "plt.axis('off')\n",
    "\n",
    "draw = ImageDraw.Draw(im)\n",
    "\n",
    "font_type =  {\n",
    "    'medium': '/content/drive/MyDrive/my-netflix-data/fonts/Montserrat-Medium.ttf',\n",
    "    'bold' : '/content/drive/MyDrive/my-netflix-data/fonts/Montserrat-Bold.ttf'\n",
    "}\n",
    "\n",
    "font = ImageFont.truetype(font_type['bold'], 65)\n",
    "# Total hours\n",
    "draw.text((120, 530), f'{int(total_time[0]):,}', font=font, fill='white')\n",
    "# Hours per week\n",
    "draw.text((680, 630), f'{watch_hours_per_week:.1f}', font=font, fill='white')\n",
    "# Account age\n",
    "font = ImageFont.truetype(font_type['bold'], 55)\n",
    "account_age_x = 345\n",
    "draw.text((account_age_x, 1360), f'{account_years} años {account_months} meses', font=font, fill='white')\n",
    "font = ImageFont.truetype(font_type['medium'], 35)\n",
    "draw.text((account_age_x, 1430), f'Desde {account_start}', font=font, fill='white')\n",
    "\n",
    "# Top movie\n",
    "top_movie = nonSeriesDf.head(1)\n",
    "top_movie_title = top_movie.title.values[0]\n",
    "\n",
    "font = ImageFont.truetype(font_type['bold'], 45)\n",
    "lines = textwrap.wrap(top_movie_title, width=22)\n",
    "top_movie_x = 425\n",
    "draw.text((top_movie_x, 330), lines[0], font=font, fill='white')\n",
    "if len(lines) > 1:\n",
    "    draw.text((top_movie_x, 380), lines[1], font=font, fill='white')\n",
    "font = ImageFont.truetype(font_type['medium'], 32)\n",
    "if len(lines) == 1:\n",
    "    draw.text((top_movie_x, 385), f'{top_movie.head(1).plays.values[0]} reproducciones', font=font, fill='white')\n",
    "else:\n",
    "    draw.text((top_movie_x, 435), f'{top_movie.head(1).plays.values[0]} reproducciones', font=font, fill='white')\n",
    "\n",
    "# Top series\n",
    "top_series = topWatchedSeriesDf.head(1)\n",
    "top_series_title = top_series.head(1).title.values[0]\n",
    "top_series_by_plays = topWatchedSeriesByPlays.loc[topWatchedSeriesByPlays.title == top_series_title]\n",
    "top_series_by_episodes = topWatchedByEpisodes.loc[topWatchedByEpisodes.title == top_series_title]\n",
    "font = ImageFont.truetype(font_type['bold'], 45)\n",
    "lines = textwrap.wrap(top_series_title, width=18)\n",
    "top_series_x = 55\n",
    "draw.text((top_series_x, 920), lines[0], font=font, fill='white')\n",
    "if len(lines) > 1:\n",
    "    draw.text((top_series_x, 970), lines[1], font=font, fill='white')\n",
    "font = ImageFont.truetype(font_type['medium'], 35)\n",
    "if len(lines) == 1:\n",
    "    draw.text((top_series_x, 980), f'{top_series.duration_hours.values[0]:.0f} Horas', font=font, fill='white')\n",
    "    draw.text((top_series_x, 1025), f'{top_series_by_plays.plays.values[0]} reproducciones', font=font, fill='white')\n",
    "    draw.text((top_series_x, 1070), f'{top_series_by_episodes.plays.values[0]} episodios', font=font, fill='white')\n",
    "else:\n",
    "    draw.text((top_series_x, 1030), f'{top_series.duration_hours.values[0]:.0f} Horas', font=font, fill='white')\n",
    "    draw.text((top_series_x, 1075), f'{top_series_by_plays.plays.values[0]} reproducciones', font=font, fill='white')\n",
    "    draw.text((top_series_x, 1120), f'{top_series_by_episodes.plays.values[0]} episodios', font=font, fill='white')\n",
    "font = ImageFont.truetype(font_type['medium'], 35)\n",
    "\n",
    "# First content\n",
    "font = ImageFont.truetype(font_type['bold'], 45)\n",
    "first_show_x = 435\n",
    "lines = textwrap.wrap(first_show, width=21)\n",
    "draw.text((first_show_x, 1110), lines[0], font=font, fill='white')\n",
    "if len(lines) > 1:\n",
    "    draw.text((first_show_x, 1160), lines[1], font=font, fill='white')\n",
    "if len(lines) > 2:\n",
    "    draw.text((first_show_x, 1210), lines[2], font=font, fill='white')\n",
    "\n",
    "imgplot = plt.imshow(im, interpolation='nearest', aspect='auto')"
   ]
  }
 ],
 "metadata": {
  "colab": {
   "collapsed_sections": [],
   "provenance": []
  },
  "kernelspec": {
   "display_name": "Python 3 (ipykernel)",
   "language": "python",
   "name": "python3"
  },
  "language_info": {
   "codemirror_mode": {
    "name": "ipython",
    "version": 3
   },
   "file_extension": ".py",
   "mimetype": "text/x-python",
   "name": "python",
   "nbconvert_exporter": "python",
   "pygments_lexer": "ipython3",
   "version": "3.8.10"
  },
  "vscode": {
   "interpreter": {
    "hash": "afc3b4600e7999c1cec994f4f7321fa76de0c7f2f3bd5869f8f64fa643bd8b36"
   }
  }
 },
 "nbformat": 4,
 "nbformat_minor": 5
}
