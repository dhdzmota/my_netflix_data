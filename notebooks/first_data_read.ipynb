{
 "cells": [
  {
   "cell_type": "code",
   "execution_count": 1,
   "id": "56bdacda",
   "metadata": {},
   "outputs": [],
   "source": [
    "#!pip install Pypdf2"
   ]
  },
  {
   "cell_type": "code",
   "execution_count": 2,
   "id": "09f0aaa5",
   "metadata": {},
   "outputs": [],
   "source": [
    "import datetime \n",
    "import matplotlib\n",
    "import matplotlib.pyplot as plt\n",
    "import seaborn as sns\n",
    "import os\n",
    "import pandas as pd\n",
    "import matplotlib as mpl\n",
    "import warnings\n",
    "\n",
    "from PyPDF2 import PdfMerger"
   ]
  },
  {
   "cell_type": "code",
   "execution_count": 3,
   "id": "d15799b9",
   "metadata": {},
   "outputs": [],
   "source": [
    "def get_duration_timedelta(string_time=None, time_format=\"%H:%M:%S\"):\n",
    "    strptime = datetime.datetime.strptime(string_time,time_format).time()\n",
    "    timedelta = datetime.timedelta(\n",
    "        hours=strptime.hour,\n",
    "        minutes=strptime.minute,\n",
    "        seconds=strptime.second,\n",
    "        microseconds=strptime.microsecond,\n",
    "    )\n",
    "    return timedelta\n",
    "\n",
    "def get_account_time(df):\n",
    "    account_time = datetime.datetime.now() - df.start_time.min()\n",
    "    years = account_time.total_seconds()/(3600*24*365)\n",
    "    return years\n",
    "\n",
    "def percentage_of_profile_views_overtime(df):\n",
    "    df['percentage'] = df._count/df._count.sum()\n",
    "    return df\n",
    "\n",
    "def merge_different_individual_start(df):\n",
    "    df['start_time_list'] = [df.start_time.to_list()]*len(df)\n",
    "    df['end_time_list'] =  [df.end_time.to_list()]*len(df)\n",
    "    df['bookmark_list'] =  [df.bookmark.to_list()]*len(df)\n",
    "    df['total_duration_seen'] = df.duration.sum()/60\n",
    "    drop_columns = [\n",
    "        'start_time',\n",
    "        'end_time',\n",
    "        'duration',\n",
    "        'bookmark',\n",
    "        'latest_bookmark',\n",
    "    ]\n",
    "    return df.drop(drop_columns, axis=1)\n",
    "\n",
    "def get_series_info(df, plot=False, save=0):\n",
    "    total_duration = df.duration.sum()/3600\n",
    "    total_lapsed_time = (df.end_time.max() - df.start_time.min()).total_seconds()/3600\n",
    "    speed = total_duration/total_lapsed_time\n",
    "    chapters = df.title.nunique()\n",
    "    chapter_speed = chapters/total_lapsed_time\n",
    "    mean_duration = total_duration/df.title.nunique()\n",
    "\n",
    "    waiting_time_series = pd.Series(df.start_time.iloc[:-1].to_numpy() - df.end_time.iloc[1:].to_numpy())\n",
    "    waiting_time = waiting_time_series.apply(lambda x: x.total_seconds()/3600)\n",
    "    waiting_time_mean = waiting_time.mean()\n",
    "    waiting_time_median = waiting_time.median()\n",
    "    waiting_time_std = waiting_time.std()\n",
    "    waiting_time_max = waiting_time.max()\n",
    "    waiting_time_min = waiting_time.min()\n",
    "    \n",
    "    df['hour'] = df.start_time.apply(lambda x : x.hour + x.minute/60)\n",
    "    if plot:\n",
    "        plt.figure(figsize=(13,4))\n",
    "        plt.scatter(df.start_time, df.hour, color='r')\n",
    "        plt.plot(df.start_time, df.hour, linestyle='--', alpha=0.5, color='k')\n",
    "        plt.ylabel('Hora del día')\n",
    "        plt.xlabel('Fecha')\n",
    "        plt.title(df.new_title.unique()[0])\n",
    "        plt.yticks([0, 4, 8, 12, 16, 20, 24])\n",
    "        plt.ylim(-0.5,24.5)\n",
    "        if save:\n",
    "            plt.savefig(f'{images_data_path}img5_netflix_serie{save-1}.pdf')  \n",
    "        plt.close()\n",
    "        \n",
    "    results = {\n",
    "        'total_duration_hours': total_duration,\n",
    "        'total_lapsed_hours': total_lapsed_time,\n",
    "        'effective_seen_time':speed,\n",
    "        'different_chapters_seen': chapters,\n",
    "        'effective_seen_time_in_different_chapters': chapters * speed,\n",
    "        'chapter_speed': chapter_speed, \n",
    "        'waiting_time_mean': waiting_time_mean,\n",
    "        'waiting_time_median': waiting_time_median,\n",
    "        'waiting_time_std': waiting_time_std,\n",
    "        'waiting_time_max': waiting_time_max,\n",
    "        'waiting_time_min': waiting_time_min,\n",
    "    }\n",
    "\n",
    "    return pd.Series(results)"
   ]
  },
  {
   "cell_type": "code",
   "execution_count": 4,
   "id": "ac4c5bde",
   "metadata": {},
   "outputs": [],
   "source": [
    "warnings.filterwarnings(\"ignore\")\n",
    "plt.style.use('bmh')\n",
    "#print(list(mpl.colormaps.keys())) # List of available colormaps\n",
    "colormap = mpl.colormaps['Reds'].resampled(100)"
   ]
  },
  {
   "cell_type": "code",
   "execution_count": 5,
   "id": "18eda86c",
   "metadata": {},
   "outputs": [],
   "source": [
    "general_path = os.path.join(os.getcwd(), '..')\n",
    "raw_data_path = os.path.join(general_path, 'data/raw')\n",
    "raw_folder = os.path.join(raw_data_path, 'netflix-report')\n",
    "interest_data_path = os.path.join(raw_folder, 'CONTENT_INTERACTION/ViewingActivity.csv')\n",
    "netflix_data_all = pd.read_csv(interest_data_path)\n",
    "report_path = os.path.join(general_path, 'reports/')\n",
    "images_data_path = os.path.join(report_path, 'figures/')"
   ]
  },
  {
   "cell_type": "code",
   "execution_count": 6,
   "id": "3868b757",
   "metadata": {},
   "outputs": [],
   "source": [
    "# Use columns easier:\n",
    "new_columns = {col:col.lower().strip().replace(' ', '_') for col in netflix_data_all.columns}\n",
    "netflix_data_all.rename(columns=new_columns, inplace=True)\n",
    "\n",
    "profiles_dict = {\n",
    "    profile_name:f'profile_{num}'  \n",
    "    for num, profile_name \n",
    "    in enumerate(netflix_data_all.profile_name.unique())\n",
    "}\n",
    "netflix_data_all.profile_name = netflix_data_all.profile_name.apply(\n",
    "    lambda x: profiles_dict[x]\n",
    ")\n",
    "\n",
    "netflix_data_all.start_time = pd.to_datetime(netflix_data_all.start_time)\n",
    "\n",
    "netflix_data_all.start_time = netflix_data_all.start_time - datetime.timedelta(hours=6)\n",
    "\n",
    "netflix_data_all.duration = netflix_data_all.duration.apply(\n",
    "    get_duration_timedelta\n",
    ")\n",
    "\n",
    "netflix_data_all['end_time'] = netflix_data_all.start_time + netflix_data_all.duration\n",
    "\n",
    "netflix_data_all.duration = netflix_data_all.duration.apply(\n",
    "    lambda x: x.total_seconds()\n",
    ")\n",
    "netflix_data_all['new_title'] = netflix_data_all.title.apply(lambda x: x.split(':')[0])\n",
    "\n",
    "netflix_data_no_autoplayed = netflix_data_all[netflix_data_all.attributes.isna()]\n",
    "netflix_data = netflix_data_no_autoplayed[netflix_data_no_autoplayed.supplemental_video_type.isna()]\n",
    "\n",
    "netflix_data.drop(['attributes', 'supplemental_video_type'], axis=1, inplace=True)"
   ]
  },
  {
   "cell_type": "code",
   "execution_count": 7,
   "id": "1c5ff675",
   "metadata": {},
   "outputs": [
    {
     "data": {
      "text/plain": [
       "profile_name\n",
       "profile_0    6.436281\n",
       "profile_1    8.962216\n",
       "profile_2    6.288218\n",
       "profile_3    1.326395\n",
       "profile_4    8.235755\n",
       "dtype: float64"
      ]
     },
     "execution_count": 7,
     "metadata": {},
     "output_type": "execute_result"
    }
   ],
   "source": [
    "netflix_data_all.groupby('profile_name').apply(get_account_time)"
   ]
  },
  {
   "cell_type": "code",
   "execution_count": 8,
   "id": "5a2d477c",
   "metadata": {},
   "outputs": [],
   "source": [
    "grouper_m = pd.Grouper(key='start_time', freq='M')\n",
    "grouper_d = pd.Grouper(key='start_time', freq='D')\n",
    "grouper_w = pd.Grouper(key='start_time', freq='W')"
   ]
  },
  {
   "cell_type": "code",
   "execution_count": 9,
   "id": "4e46486d",
   "metadata": {},
   "outputs": [],
   "source": [
    "data_over_time = netflix_data.groupby([grouper_m, 'profile_name']).count().device_type.reset_index().rename(\n",
    "    columns={'device_type': '_count'}\n",
    ")\n",
    "plt.figure(figsize=(13,8))\n",
    "for profile in data_over_time.profile_name.unique():\n",
    "    temporal = data_over_time[data_over_time.profile_name == profile]\n",
    "    plt.plot(temporal.start_time, temporal._count, label=profile)\n",
    "plt.legend()\n",
    "plt.title('Conteo de diversas actividades vistas en netflix')\n",
    "plt.ylabel('Conteo')\n",
    "plt.xlabel('Fecha')\n",
    "plt.savefig(f'{images_data_path}img0_conteo_por_perfil.pdf')  \n",
    "plt.close()"
   ]
  },
  {
   "cell_type": "code",
   "execution_count": 10,
   "id": "f797d6cc",
   "metadata": {},
   "outputs": [],
   "source": [
    "pd.pivot_table(\n",
    "    data_over_time.groupby('start_time').apply(percentage_of_profile_views_overtime),\n",
    "    values='percentage',\n",
    "    columns=['profile_name'],\n",
    "    index='start_time',\n",
    "    fill_value=0\n",
    ").plot.area(stacked=True, linewidth=0.1, figsize=(13,8))\n",
    "plt.title('Porcentaje de vistas de cada perfil de netflix a traves del tiempo')\n",
    "plt.ylabel('Porcentaje')\n",
    "plt.xlabel('Fecha')\n",
    "plt.xlim('2012-06-01','2023-06-01')\n",
    "plt.savefig(f'{images_data_path}img1_porcentaje_por_perfil.pdf')  \n",
    "plt.close()"
   ]
  },
  {
   "cell_type": "code",
   "execution_count": 11,
   "id": "d6b6c152",
   "metadata": {},
   "outputs": [],
   "source": [
    "pd.pivot_table(\n",
    "    data_over_time,\n",
    "    values='_count',\n",
    "    columns=['profile_name'],\n",
    "    index='start_time',\n",
    "    fill_value=0\n",
    ").plot.area(stacked=True, linewidth=0.1, figsize=(13,8))\n",
    "plt.title('Conteo de vistas de cada perfil de netflix a traves del tiempo')\n",
    "plt.ylabel('Conteo total')\n",
    "plt.xlabel('Fecha')\n",
    "plt.xlim('2013-06-01','2023-01-01')\n",
    "plt.savefig(f'{images_data_path}img2_conteo_por_perfil_stack.pdf')  \n",
    "plt.close()"
   ]
  },
  {
   "cell_type": "code",
   "execution_count": 12,
   "id": "6cf49223",
   "metadata": {},
   "outputs": [],
   "source": [
    "series_traits_list = [\n",
    "    \": Season\",\n",
    "    \": Book\",\n",
    "    \" \\(Episode \",\n",
    "    \" : Episode \",\n",
    "    \" : Part \",\n",
    "    \" \\(Chapter \",\n",
    "    \" : Chapter \",\n",
    "    \": Temporada\",\n",
    "    \": Libro\", \n",
    "    \" \\(Capítulo \",\n",
    "    \" : Capítulo \",\n",
    "    \" : Parte \",\n",
    "    \" : Episodio \",\n",
    "    \" \\(Episodio \",\n",
    "]\n",
    "\n",
    "series_trait_df = netflix_data.title=='initialization of a false series'\n",
    "for series_trait in series_traits_list:\n",
    "    series_trait_df += netflix_data.title.str.contains(series_trait)\n",
    "    \n",
    "netflix_data.loc[series_trait_df, 'is_serie'] = True\n",
    "netflix_data.loc[~series_trait_df, 'is_serie'] = False"
   ]
  },
  {
   "cell_type": "code",
   "execution_count": 13,
   "id": "584c9bf5",
   "metadata": {},
   "outputs": [],
   "source": [
    "df = netflix_data[netflix_data.profile_name == 'profile_0']\n",
    "df.loc[df.is_serie == False, 'individual_start'] = df.title.map(\n",
    "    df.title.value_counts()\n",
    ")\n",
    "movies = df[df.is_serie==False]\n",
    "\n",
    "movies[movies.start_time > pd.to_datetime('2022-01-01')].groupby('title').apply(merge_different_individual_start).drop_duplicates('title').sort_values(\n",
    "    'total_duration_seen', ascending=True).plot.barh(x='new_title', y='total_duration_seen', color='red')\n",
    "\n",
    "plt.title('Películas más importantes')\n",
    "plt.ylabel('Título')\n",
    "plt.xlabel('Tiempo total de vista (minutos)')\n",
    "plt.savefig(f'{images_data_path}img3_netflix_peliculas_importantes.pdf')  \n",
    "plt.close()"
   ]
  },
  {
   "cell_type": "code",
   "execution_count": 14,
   "id": "781d52c0",
   "metadata": {
    "scrolled": true
   },
   "outputs": [],
   "source": [
    "series =  df[df.is_serie==True]\n",
    "series_information = series.groupby('new_title').apply(get_series_info).sort_values(\n",
    "    'total_duration_hours', ascending=False)\n",
    "series_information = series_information[series_information.waiting_time_min.notna()].head(30)\n",
    "\n",
    "series_information.sort_values('total_duration_hours', ascending=True).total_duration_hours.plot.barh(color='red')\n",
    "plt.title('Series más importantes')\n",
    "plt.ylabel('Título')\n",
    "plt.xlabel('Tiempo total de vista (horas)')\n",
    "plt.savefig(f'{images_data_path}img4_netflix_series_importantes.pdf')  \n",
    "plt.close()\n",
    "\n",
    "for num, title in enumerate(series_information.index):\n",
    "    test = series[series.new_title==title]\n",
    "    if test.shape[0]>1:\n",
    "        get_series_info(test, plot=True, save=num+1)"
   ]
  },
  {
   "cell_type": "code",
   "execution_count": 15,
   "id": "0101b1ad",
   "metadata": {},
   "outputs": [
    {
     "data": {
      "text/plain": [
       "Text(225.58333333333334, 0.5, 'Día numérico de la semana')"
      ]
     },
     "execution_count": 15,
     "metadata": {},
     "output_type": "execute_result"
    },
    {
     "data": {
      "image/png": "[encoded data removed]",
      "text/plain": [
       "<Figure size 2000x1000 with 2 Axes>"
      ]
     },
     "metadata": {},
     "output_type": "display_data"
    }
   ],
   "source": [
    "plt.figure(figsize=(20,10))\n",
    "calendar = df[\n",
    "    df.start_time.between(pd.to_datetime('2021-01-01'), pd.to_datetime('2022-01-03'))\n",
    "    #df.start_time.between(pd.to_datetime('2022-01-01'), pd.to_datetime('2023-01-03'))\n",
    "\n",
    "].groupby(grouper_d).duration.sum().reset_index()\n",
    "calendar.duration = calendar.duration//3600\n",
    "calendar['day_of_week'] = calendar.start_time.apply(lambda x: x.day_of_week+1)\n",
    "calendar['week'] = calendar.start_time.apply(lambda x: x.week)\n",
    "calendarized = pd.pivot_table(calendar, index='day_of_week', columns=['week'], values='duration')\n",
    "sns.heatmap(\n",
    "    calendarized,\n",
    "    annot=True, linewidth=.5, cmap=colormap\n",
    ")\n",
    "plt.title('Horas totales vistas de Netflix cada día')\n",
    "plt.xlabel('Semana del año')\n",
    "plt.ylabel('Día numérico de la semana')\n",
    "#plt.savefig(f'{images_data_path}img6_netflix_peliculas_importantes.pdf')  \n",
    "#plt.close()"
   ]
  },
  {
   "cell_type": "code",
   "execution_count": 16,
   "id": "3e850c41",
   "metadata": {},
   "outputs": [],
   "source": [
    "plt.figure(figsize=(20,10))\n",
    "calendar_year = df.groupby(grouper_m).duration.sum().reset_index()\n",
    "calendar_year.duration = calendar_year.duration//3600\n",
    "calendar_year['month'] = calendar_year.start_time.apply(lambda x:x.month) #x.month_name())\n",
    "calendar_year['year'] = calendar_year.start_time.apply(lambda x: x.year)\n",
    "calendarized = pd.pivot_table(calendar_year, index='year', columns=['month'], values='duration')\n",
    "sns.heatmap(\n",
    "    calendarized,\n",
    "    annot=True, linewidth=.5, cmap=colormap\n",
    ")\n",
    "plt.title('Horas totales vistas de Netflix cada mes')\n",
    "plt.xlabel('Número de mes')\n",
    "plt.ylabel('Año')\n",
    "plt.savefig(f'{images_data_path}img6_netflix_horas_mes_anio.pdf')  \n",
    "plt.close()"
   ]
  },
  {
   "cell_type": "code",
   "execution_count": 20,
   "id": "04bb6b58",
   "metadata": {},
   "outputs": [],
   "source": [
    "merger = PdfMerger()\n",
    "for pdf_file in os.listdir(images_data_path):\n",
    "    if pdf_file.endswith('.pdf'):\n",
    "        merger.append(f'{images_data_path}{pdf_file}')\n",
    "\n",
    "merger.write(f\"{report_path}report.pdf\")\n",
    "merger.close()"
   ]
  },
  {
   "cell_type": "code",
   "execution_count": null,
   "id": "c3e77c30",
   "metadata": {},
   "outputs": [],
   "source": []
  },
  {
   "cell_type": "code",
   "execution_count": null,
   "id": "3da921fc",
   "metadata": {},
   "outputs": [],
   "source": []
  }
 ],
 "metadata": {
  "kernelspec": {
   "display_name": "Python 3 (ipykernel)",
   "language": "python",
   "name": "python3"
  },
  "language_info": {
   "codemirror_mode": {
    "name": "ipython",
    "version": 3
   },
   "file_extension": ".py",
   "mimetype": "text/x-python",
   "name": "python",
   "nbconvert_exporter": "python",
   "pygments_lexer": "ipython3",
   "version": "3.8.10"
  }
 },
 "nbformat": 4,
 "nbformat_minor": 5
}
