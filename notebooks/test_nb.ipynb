{
 "cells": [
  {
   "cell_type": "code",
   "execution_count": 1,
   "id": "54a58946",
   "metadata": {
    "ExecuteTime": {
     "end_time": "2022-11-14T04:22:02.655981Z",
     "start_time": "2022-11-14T04:21:56.607850Z"
    }
   },
   "outputs": [],
   "source": [
    "import datetime\n",
    "import matplotlib as mpl\n",
    "import matplotlib.pyplot as plt\n",
    "import seaborn as sns\n",
    "import os\n",
    "import pandas as pd\n",
    "import warnings\n",
    "\n",
    "from ast import literal_eval\n",
    "from PyPDF2 import PdfMerger\n",
    "from sklearn.cluster import DBSCAN\n",
    "\n",
    "from src.data.fetch_information import (\n",
    "    get_processed_netflix_data,\n",
    "    get_general_sorted_data,\n",
    ")\n",
    "from src.visualization.utils import (\n",
    "    get_pivoted_data,\n",
    "    clean_text,\n",
    "    create_calendar_pivot_table,\n",
    ")\n",
    "def initialize_configuration():\n",
    "    \"\"\"\n",
    "    This function establishes the initial configuration:\n",
    "     - Ignore warnings\n",
    "     - Use the bmh matplotlib style\n",
    "     - Use the Reds colormap\n",
    "\n",
    "    Returns\n",
    "    -------\n",
    "    colormap: matplotlib.colors.LinearSegmentedColormap\n",
    "        The desired colormap resampled (given a number from 0 to 1 a color of\n",
    "         the colormap will return a corresponding value mapped into 100\n",
    "         different tones).\n",
    "\n",
    "    \"\"\"\n",
    "    warnings.filterwarnings(\"ignore\")\n",
    "    colormap = mpl.colors.LinearSegmentedColormap.from_list(\n",
    "        \"\", ['red', 'black']\n",
    "    ).resampled(100)\n",
    "    return colormap\n",
    "\n",
    "def get_stacked_profile_duration(netflix_data, image_path='./', cmap=None):\n",
    "    \"\"\"\n",
    "\n",
    "    Parameters\n",
    "    ----------\n",
    "    netflix_data\n",
    "\n",
    "    Returns\n",
    "    -------\n",
    "\n",
    "    \"\"\"\n",
    "    pivoted_data = get_pivoted_data(netflix_data)\n",
    "    pivoted_data_filtered = pivoted_data[\n",
    "        [col for col in pivoted_data.columns if\n",
    "         not col.startswith('_') and 'total' not in col]\n",
    "    ]\n",
    "    pivoted_data_filtered.reset_index(inplace=True)\n",
    "    pivoted_data_filtered.set_index('start_time', inplace=True)\n",
    "\n",
    "    pivoted_data_filtered.plot.area(\n",
    "        stacked=True,\n",
    "        linewidth=0.1,\n",
    "        figsize=(13, 8),\n",
    "        cmap=cmap,\n",
    "        legend=True\n",
    "    )\n",
    "    plt.ylabel('Duración (horas)')\n",
    "    plt.xlabel('Fecha')\n",
    "    title_str = 'Duración de tiempo visto en Netflix para cada perfil'\n",
    "    plt.title(title_str)\n",
    "    plt.legend(bbox_to_anchor=(1.15, 0.5), loc=\"center right\")\n",
    "    plt.grid(linestyle='--')\n",
    "    plt.savefig(\n",
    "        f'{image_path}img0_netflix_duracion_fecha_perfil.pdf',\n",
    "        bbox_inches='tight'\n",
    "    )\n",
    "    plt.close()\n",
    "\n",
    "\n",
    "def get_stacked_profile_proportion(netflix_data, image_path='./',cmap=None):\n",
    "    pivoted_data = get_pivoted_data(netflix_data)\n",
    "    pivoted_data_filtered = pivoted_data[\n",
    "        [col for col in pivoted_data.columns if\n",
    "         col.startswith('_') and '_t' not in col]\n",
    "    ]\n",
    "    columns_rename = {col: col[1:] for col in pivoted_data_filtered.columns}\n",
    "    pivoted_data_filtered.rename(\n",
    "        columns=columns_rename,\n",
    "        inplace=True,\n",
    "    )\n",
    "    pivoted_data_filtered.reset_index(inplace=True)\n",
    "    pivoted_data_filtered.set_index('start_time', inplace=True)\n",
    "    pivoted_data_filtered.plot.area(\n",
    "        stacked=True,\n",
    "        linewidth=0.1,\n",
    "        figsize=(13, 8),\n",
    "        cmap=cmap,\n",
    "        legend=True\n",
    "    )\n",
    "    plt.ylabel('Proporción')\n",
    "    plt.xlabel('Fecha')\n",
    "    plt.ylim(0, 1)\n",
    "    title_str = 'Proporción de tiempo en netflix para cada perfil.'\n",
    "    plt.title(title_str)\n",
    "    plt.legend(bbox_to_anchor=(1.15, 0.5), loc=\"center right\")\n",
    "    plt.savefig(\n",
    "        f'{image_path}img1_netflix_proporcion_fecha_perfil.pdf',\n",
    "        bbox_inches='tight'\n",
    "    )\n",
    "    plt.close()\n",
    "\n",
    "def plot_series_time(series_data_row, image_path='./', cmap=None):\n",
    "    start_times = pd.to_datetime(literal_eval(series_data_row.all_start_times))\n",
    "    hour = literal_eval(series_data_row.all_start_time_hours)\n",
    "    now_time_difference = pd.Series(start_times - datetime.datetime.now()).apply(lambda x: x.days).to_numpy()\n",
    "    clustering = DBSCAN(min_samples=1, eps=48).fit_predict(now_time_difference.reshape(-1, 1))\n",
    "    series_title = series_data_row.new_title\n",
    "    # Create figure and plot\n",
    "    fig = plt.figure(figsize=(8,5))\n",
    "    ax = plt.gca()\n",
    "    plt.scatter(start_times, hour, c=clustering, cmap=cmap)\n",
    "    plt.plot(start_times, hour, linestyle='--', alpha=0.5, color='k')\n",
    "    plt.ylabel('Hora del día')\n",
    "    plt.xlabel('Fecha')\n",
    "    plt.title(series_title)\n",
    "    plt.yticks([0, 4, 8, 12, 16, 20, 24])\n",
    "    plt.ylim(-0.5, 24.5)\n",
    "    plt.grid(linestyle='--')\n",
    "    ax.patch.set_facecolor('gainsboro')\n",
    "    clean_title_text = clean_text(series_title)\n",
    "    plt.savefig(\n",
    "        f'{image_path}img2_series__{clean_title_text}.pdf',\n",
    "        bbox_inches='tight'\n",
    "    )\n",
    "    plt.close()\n",
    "\n",
    "def generate_calendarlike_plot(data, image_path='./', cmap=None):\n",
    "    calendarized = create_calendar_pivot_table(data)\n",
    "    plt.figure(figsize=(20, 10))\n",
    "    sns.heatmap(\n",
    "        calendarized,\n",
    "        annot=True,\n",
    "        linewidth=.5,\n",
    "        cmap=cmap\n",
    "    )\n",
    "    plt.title('Horas totales vistas de Netflix cada mes')\n",
    "    plt.xlabel('Número de mes')\n",
    "    plt.ylabel('Año')\n",
    "    plt.savefig(\n",
    "        f'{image_path}img3_netflix_horas_mes_anio.pdf',\n",
    "        bbox_inches='tight'\n",
    "    )\n",
    "    plt.close()\n",
    "\n",
    "def generate_report(image_path, report_path):\n",
    "    \"\"\"\n",
    "    This function grabs all the .pdf files that are in the image_path location\n",
    "    and then merges them into a single .pdf file saved in the following file:\n",
    "    {report_path}/report.pdf.\n",
    "\n",
    "    Parameters\n",
    "    ----------\n",
    "    image_path: str\n",
    "        Os path to the image location.\n",
    "    report_path: str\n",
    "        Os path to the report file location.\n",
    "    Returns\n",
    "    -------\n",
    "    None\n",
    "    \"\"\"\n",
    "    merger = PdfMerger()\n",
    "    for pdf_file in os.listdir(image_path):\n",
    "        if pdf_file.endswith('.pdf'):\n",
    "            merger.append(f'{image_path}{pdf_file}')\n",
    "\n",
    "    merger.write(f\"{report_path}report.pdf\")\n",
    "    merger.close()\n",
    "\n",
    "def process():\n",
    "    \"\"\"\n",
    "    Main process function.\n",
    "\n",
    "    Returns\n",
    "    -------\n",
    "    None\n",
    "    \"\"\"\n",
    "    colormap = initialize_configuration()\n",
    "    general_path = os.path.join(os.getcwd())\n",
    "    data_path = os.path.join(general_path, 'data')\n",
    "    interim_data_path = os.path.join(data_path, 'interim')\n",
    "    interest_data_file = os.path.join(\n",
    "        interim_data_path,\n",
    "        'netflix_data.csv'\n",
    "    )\n",
    "    interest_series_file = os.path.join(\n",
    "        interim_data_path,\n",
    "        'profile_0_series_info.csv'\n",
    "    )\n",
    "    report_path = os.path.join(general_path, 'reports/')\n",
    "    images_data_path = os.path.join(report_path, 'figures/')\n",
    "\n",
    "    netflix_data = get_processed_netflix_data(interest_data_file)\n",
    "    series_data = get_general_sorted_data(\n",
    "        interest_series_file,\n",
    "        sorted_by='total_duration_hours',\n",
    "        limit_rows=30\n",
    "    )\n",
    "    \n",
    "\n",
    "    get_stacked_profile_duration(netflix_data, images_data_path, colormap)\n",
    "    get_stacked_profile_proportion(netflix_data, images_data_path, colormap)\n",
    "    generate_calendarlike_plot(netflix_data, images_data_path, colormap)\n",
    "    series_data.sort_values('total_duration_hours', ascending=False)\\\n",
    "        .apply(\n",
    "            plot_series_time,\n",
    "            image_path=images_data_path,\n",
    "            cmap=colormap,\n",
    "            axis=1,\n",
    "        )\n",
    "    generate_report(images_data_path, report_path)"
   ]
  },
  {
   "cell_type": "code",
   "execution_count": null,
   "id": "9c5d4b73",
   "metadata": {
    "ExecuteTime": {
     "end_time": "2022-11-14T04:22:02.834972Z",
     "start_time": "2022-11-14T04:22:02.834961Z"
    }
   },
   "outputs": [],
   "source": [
    "\n",
    "    colormap = initialize_configuration()\n",
    "    general_path = os.path.join(os.getcwd(), '..')\n",
    "    data_path = os.path.join(general_path, 'data')\n",
    "    interim_data_path = os.path.join(data_path, 'interim')\n",
    "    interest_data_file = os.path.join(\n",
    "        interim_data_path,\n",
    "        'netflix_data.csv'\n",
    "    )\n",
    "    interest_series_file = os.path.join(\n",
    "        interim_data_path,\n",
    "        'profile_0_series_info.csv'\n",
    "    )\n",
    "    \n",
    "    interest_movies_file = os.path.join(\n",
    "        interim_data_path,\n",
    "        'profile_0_movie_info.csv'\n",
    "    )\n",
    "    report_path = os.path.join(general_path, 'reports/')\n",
    "    images_data_path = os.path.join(report_path, 'figures/')\n",
    "\n",
    "    netflix_data = get_processed_netflix_data(interest_data_file)\n",
    "    series_data = get_general_sorted_data(\n",
    "        interest_series_file,\n",
    "        sorted_by='total_duration_hours',\n",
    "        limit_rows=30\n",
    "    )\n",
    "    movies_data = get_general_sorted_data(\n",
    "        interest_movies_file,\n",
    "    )"
   ]
  },
  {
   "cell_type": "code",
   "execution_count": null,
   "id": "8848ab49",
   "metadata": {
    "ExecuteTime": {
     "end_time": "2022-11-14T04:22:02.874274Z",
     "start_time": "2022-11-14T04:22:02.874246Z"
    }
   },
   "outputs": [],
   "source": [
    "series_data.sort_values('total_duration_hours').plot.barh(x='new_title', y='total_duration_hours')"
   ]
  },
  {
   "cell_type": "code",
   "execution_count": null,
   "id": "c850c332",
   "metadata": {
    "ExecuteTime": {
     "end_time": "2022-11-14T04:22:02.907720Z",
     "start_time": "2022-11-14T04:22:02.907707Z"
    }
   },
   "outputs": [],
   "source": [
    "movies_data.sort_values('total_duration_seen').tail(30).plot.barh(x='new_title', y='total_duration_seen')"
   ]
  },
  {
   "cell_type": "code",
   "execution_count": null,
   "id": "2f632bce",
   "metadata": {},
   "outputs": [],
   "source": []
  },
  {
   "cell_type": "code",
   "execution_count": 26,
   "id": "2001dc39",
   "metadata": {
    "ExecuteTime": {
     "end_time": "2022-11-13T00:13:11.291232Z",
     "start_time": "2022-11-13T00:13:11.286316Z"
    },
    "code_folding": []
   },
   "outputs": [],
   "source": [
    "# def interest_netflix_data_filtered_intersection(row):\n",
    "#     time_filter = netflix_data.start_time.between(\n",
    "#         row.start_time, \n",
    "#         row.end_time\n",
    "#     )\n",
    "#     title_filter = netflix_data.title != row.title\n",
    "#     interest_netflix_data = netflix_data[((time_filter) & (title_filter))]\n",
    "#     return interest_netflix_data\n",
    "\n",
    "\n",
    "# def amount_of_intersected_series_or_movies(row):\n",
    "#     interest_netflix_data = interest_netflix_data_filtered_intersection(row)\n",
    "#     len_intersected_series_or_movies = interest_netflix_data.shape[0]\n",
    "#     return len_intersected_series_or_movies\n",
    "\n",
    "# def list_of_intersected_series_or_movies(row):\n",
    "#     interest_netflix_data = interest_netflix_data_filtered_intersection(row)\n",
    "#     what_was_watched = interest_netflix_data.title.to_list()\n",
    "#     return what_was_watched"
   ]
  },
  {
   "cell_type": "code",
   "execution_count": 27,
   "id": "c199b31f",
   "metadata": {
    "ExecuteTime": {
     "end_time": "2022-11-13T00:13:20.636814Z",
     "start_time": "2022-11-13T00:13:11.538533Z"
    }
   },
   "outputs": [],
   "source": [
    "# netflix_data['amount_of_intersected_series_or_movies'] = netflix_data.apply(\n",
    "#     amount_of_intersected_series_or_movies, axis=1\n",
    "# )"
   ]
  },
  {
   "cell_type": "code",
   "execution_count": 28,
   "id": "44f23cd3",
   "metadata": {
    "ExecuteTime": {
     "end_time": "2022-11-13T00:13:28.948348Z",
     "start_time": "2022-11-13T00:13:20.823097Z"
    }
   },
   "outputs": [],
   "source": [
    "# netflix_data['list_of_intersected_series_or_movies'] = netflix_data.apply(\n",
    "#     list_of_intersected_series_or_movies, axis=1\n",
    "# )"
   ]
  },
  {
   "cell_type": "code",
   "execution_count": 30,
   "id": "c1f86c05",
   "metadata": {
    "ExecuteTime": {
     "end_time": "2022-11-13T00:14:51.564889Z",
     "start_time": "2022-11-13T00:14:51.152623Z"
    }
   },
   "outputs": [
    {
     "data": {
      "text/plain": [
       "<matplotlib.collections.PathCollection at 0x7f9a611579a0>"
      ]
     },
     "execution_count": 30,
     "metadata": {},
     "output_type": "execute_result"
    },
    {
     "data": {
      "image/png": "[encoded data removed]",
      "text/plain": [
       "<Figure size 640x480 with 1 Axes>"
      ]
     },
     "metadata": {},
     "output_type": "display_data"
    }
   ],
   "source": [
    "# isom = netflix_data[netflix_data.amount_of_intersected_series_or_movies>1]\n",
    "# plt.scatter(isom.start_time, isom.duration)"
   ]
  },
  {
   "cell_type": "code",
   "execution_count": 135,
   "id": "c3cebfb7",
   "metadata": {
    "ExecuteTime": {
     "end_time": "2022-11-12T21:42:16.639017Z",
     "start_time": "2022-11-12T21:42:00.246429Z"
    }
   },
   "outputs": [],
   "source": [
    "# def duration_seen_last_week_same_profile(row):\n",
    "#     same_profile = netflix_data.profile_name == row.profile_name\n",
    "#     below_time = netflix_data.end_time < row.start_time\n",
    "#     above_time = netflix_data.start_time > row.start_time - datetime.timedelta(days=7)\n",
    "#     filters = ((same_profile) & (below_time) & (above_time))\n",
    "#     total_duration = netflix_data[filters].duration.sum()\n",
    "#     return total_duration\n",
    "\n",
    "# netflix_data['duration_seen_last_week_same_profile'] = netflix_data.apply(\n",
    "#     duration_seen_last_week_same_profile, axis=1\n",
    "# )"
   ]
  },
  {
   "cell_type": "code",
   "execution_count": null,
   "id": "51f3139c",
   "metadata": {},
   "outputs": [],
   "source": []
  }
 ],
 "metadata": {
  "hide_input": false,
  "kernelspec": {
   "display_name": "Python 3 (ipykernel)",
   "language": "python",
   "name": "python3"
  },
  "language_info": {
   "codemirror_mode": {
    "name": "ipython",
    "version": 3
   },
   "file_extension": ".py",
   "mimetype": "text/x-python",
   "name": "python",
   "nbconvert_exporter": "python",
   "pygments_lexer": "ipython3",
   "version": "3.8.10"
  },
  "toc": {
   "base_numbering": 1,
   "nav_menu": {},
   "number_sections": true,
   "sideBar": true,
   "skip_h1_title": false,
   "title_cell": "Table of Contents",
   "title_sidebar": "Contents",
   "toc_cell": false,
   "toc_position": {},
   "toc_section_display": true,
   "toc_window_display": false
  },
  "varInspector": {
   "cols": {
    "lenName": 16,
    "lenType": 16,
    "lenVar": 40
   },
   "kernels_config": {
    "python": {
     "delete_cmd_postfix": "",
     "delete_cmd_prefix": "del ",
     "library": "var_list.py",
     "varRefreshCmd": "print(var_dic_list())"
    },
    "r": {
     "delete_cmd_postfix": ") ",
     "delete_cmd_prefix": "rm(",
     "library": "var_list.r",
     "varRefreshCmd": "cat(var_dic_list()) "
    }
   },
   "types_to_exclude": [
    "module",
    "function",
    "builtin_function_or_method",
    "instance",
    "_Feature"
   ],
   "window_display": false
  }
 },
 "nbformat": 4,
 "nbformat_minor": 5
}
