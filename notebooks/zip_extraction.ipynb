{
 "cells": [
  {
   "cell_type": "code",
   "execution_count": 6,
   "id": "8c3571a7",
   "metadata": {},
   "outputs": [],
   "source": [
    "import os\n",
    "from zipfile import ZipFile"
   ]
  },
  {
   "cell_type": "markdown",
   "id": "4606e7f8",
   "metadata": {},
   "source": [
    "## Extract all information on zipfile. \n",
    "\n",
    "In this notebook, we will replicate the process of extracting the information on a zip file given that the data is saved at data/raw as 'netflix-report.zip'. "
   ]
  },
  {
   "cell_type": "code",
   "execution_count": 14,
   "id": "4e6dd824",
   "metadata": {},
   "outputs": [
    {
     "data": {
      "text/plain": [
       "'/mnt/d/Users/dhdzm/Documents/projects/netflix/my_netflix_data/notebooks/../data/raw'"
      ]
     },
     "execution_count": 14,
     "metadata": {},
     "output_type": "execute_result"
    }
   ],
   "source": [
    "general_path = os.path.join(os.getcwd(), '..')\n",
    "raw_data_path = os.path.join(general_path, 'data/raw')\n",
    "raw_data_path"
   ]
  },
  {
   "cell_type": "code",
   "execution_count": 15,
   "id": "234e84ad",
   "metadata": {},
   "outputs": [],
   "source": [
    "file_name_path = os.path.join(raw_data_path, 'netflix-report.zip')\n",
    "new_folder_path = os.path.join(raw_data_path, 'netflix-report')\n",
    "\n",
    "with ZipFile(file_name, 'r') as zip_f:\n",
    "    zip_f.extractall(new_folder_path)"
   ]
  },
  {
   "cell_type": "code",
   "execution_count": null,
   "id": "cdded24e",
   "metadata": {},
   "outputs": [],
   "source": []
  }
 ],
 "metadata": {
  "hide_input": false,
  "kernelspec": {
   "display_name": "Python 3 (ipykernel)",
   "language": "python",
   "name": "python3"
  },
  "language_info": {
   "codemirror_mode": {
    "name": "ipython",
    "version": 3
   },
   "file_extension": ".py",
   "mimetype": "text/x-python",
   "name": "python",
   "nbconvert_exporter": "python",
   "pygments_lexer": "ipython3",
   "version": "3.8.10"
  },
  "toc": {
   "base_numbering": 1,
   "nav_menu": {},
   "number_sections": true,
   "sideBar": true,
   "skip_h1_title": false,
   "title_cell": "Table of Contents",
   "title_sidebar": "Contents",
   "toc_cell": false,
   "toc_position": {},
   "toc_section_display": true,
   "toc_window_display": false
  },
  "varInspector": {
   "cols": {
    "lenName": 16,
    "lenType": 16,
    "lenVar": 40
   },
   "kernels_config": {
    "python": {
     "delete_cmd_postfix": "",
     "delete_cmd_prefix": "del ",
     "library": "var_list.py",
     "varRefreshCmd": "print(var_dic_list())"
    },
    "r": {
     "delete_cmd_postfix": ") ",
     "delete_cmd_prefix": "rm(",
     "library": "var_list.r",
     "varRefreshCmd": "cat(var_dic_list()) "
    }
   },
   "types_to_exclude": [
    "module",
    "function",
    "builtin_function_or_method",
    "instance",
    "_Feature"
   ],
   "window_display": false
  }
 },
 "nbformat": 4,
 "nbformat_minor": 5
}
